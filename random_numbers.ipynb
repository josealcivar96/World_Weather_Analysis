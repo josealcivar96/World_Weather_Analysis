{
 "cells": [
  {
   "cell_type": "markdown",
   "id": "552ae6ad",
   "metadata": {},
   "source": [
    "# Random Numbers"
   ]
  },
  {
   "cell_type": "code",
   "execution_count": 1,
   "id": "2df6a6df",
   "metadata": {},
   "outputs": [],
   "source": [
    "#import random module\n",
    "import random as rd"
   ]
  },
  {
   "cell_type": "markdown",
   "id": "5c14eadd",
   "metadata": {},
   "source": [
    "## Random Integer"
   ]
  },
  {
   "cell_type": "code",
   "execution_count": 4,
   "id": "5612f829",
   "metadata": {},
   "outputs": [
    {
     "data": {
      "text/plain": [
       "-66"
      ]
     },
     "execution_count": 4,
     "metadata": {},
     "output_type": "execute_result"
    }
   ],
   "source": [
    "rd.randint(-90, 90)"
   ]
  },
  {
   "cell_type": "markdown",
   "id": "0fe8c82a",
   "metadata": {},
   "source": [
    "## Random Decimal (between 0.0 and 1.0)"
   ]
  },
  {
   "cell_type": "code",
   "execution_count": 3,
   "id": "de99a3e1",
   "metadata": {},
   "outputs": [
    {
     "data": {
      "text/plain": [
       "0.7425571017048134"
      ]
     },
     "execution_count": 3,
     "metadata": {},
     "output_type": "execute_result"
    }
   ],
   "source": [
    "rd.random()"
   ]
  },
  {
   "cell_type": "markdown",
   "id": "b4802fc5",
   "metadata": {},
   "source": [
    "## Getting Random Latitudes"
   ]
  },
  {
   "cell_type": "code",
   "execution_count": 5,
   "id": "1e1e9221",
   "metadata": {},
   "outputs": [
    {
     "name": "stdout",
     "output_type": "stream",
     "text": [
      "[84.50257231181858, -10.479141914592676, -19.414465024100647, -80.75607504808954, 70.14002975293981, 62.50854768358827, 62.29137323723097, 45.3514821912877, -44.39121822672496, -26.94526787132741]\n"
     ]
    }
   ],
   "source": [
    "latitudes = []\n",
    "for i in range (1,11):\n",
    "    random_lat = rd.randint(-90, 89) + rd.random()\n",
    "    latitudes.append(random_lat)\n",
    "print(latitudes)"
   ]
  },
  {
   "cell_type": "markdown",
   "id": "2c7dbd96",
   "metadata": {},
   "source": [
    "## Random Number from a Stepped Range"
   ]
  },
  {
   "cell_type": "code",
   "execution_count": 6,
   "id": "14123449",
   "metadata": {},
   "outputs": [
    {
     "data": {
      "text/plain": [
       "-63"
      ]
     },
     "execution_count": 6,
     "metadata": {},
     "output_type": "execute_result"
    }
   ],
   "source": [
    "rd.randrange(-90,90, step = 3)"
   ]
  },
  {
   "cell_type": "markdown",
   "id": "bbd28af0",
   "metadata": {},
   "source": [
    "## Random Decimals from Range"
   ]
  },
  {
   "cell_type": "code",
   "execution_count": 7,
   "id": "30ef4463",
   "metadata": {},
   "outputs": [
    {
     "data": {
      "text/plain": [
       "-12.2199508117817"
      ]
     },
     "execution_count": 7,
     "metadata": {},
     "output_type": "execute_result"
    }
   ],
   "source": [
    "rd.uniform(-90,90)"
   ]
  },
  {
   "cell_type": "markdown",
   "id": "8e613459",
   "metadata": {},
   "source": [
    "## NumPy for Arrays of Random Numbers"
   ]
  },
  {
   "cell_type": "code",
   "execution_count": 8,
   "id": "1a3e5e1f",
   "metadata": {},
   "outputs": [],
   "source": [
    "#importing NumPy\n",
    "import numpy as np"
   ]
  },
  {
   "cell_type": "code",
   "execution_count": 12,
   "id": "e37662b8",
   "metadata": {},
   "outputs": [
    {
     "data": {
      "text/plain": [
       "array([ 35.12462741, -77.83696964,  56.5329275 ,  34.51988953,\n",
       "        20.73408153,  -9.84169916, -51.41405316,  26.04298245,\n",
       "        36.4749792 , -12.53792054,  -7.58740147,  37.63132623,\n",
       "        44.15883064, -70.77318658,  -9.27805198, -62.67341501,\n",
       "        67.42660466, -19.97360938, -57.11389759,   3.99620493,\n",
       "        54.43595715,  18.14217625, -76.89755537,  29.18517995,\n",
       "        33.90488962,  -6.23701439, -24.70738607, -70.10707733,\n",
       "       -11.01201236,  88.34795167, -77.76628272, -44.91275014,\n",
       "       -74.1136572 , -67.48858782, -13.86494574,   7.23399844,\n",
       "        56.84981856, -62.30502633, -46.33016632,  16.27566871,\n",
       "       -81.04850243, -10.00414994, -44.42073734,  55.41040475,\n",
       "        42.53855473,  81.42558461, -66.07847245, -73.81674955,\n",
       "       -82.69990467,  72.70881041])"
      ]
     },
     "execution_count": 12,
     "metadata": {},
     "output_type": "execute_result"
    }
   ],
   "source": [
    "np.random.uniform(-90,90, size = 50)"
   ]
  },
  {
   "cell_type": "markdown",
   "id": "ec744cd0",
   "metadata": {},
   "source": [
    "### Testing time"
   ]
  },
  {
   "cell_type": "code",
   "execution_count": 13,
   "id": "cdf89939",
   "metadata": {},
   "outputs": [],
   "source": [
    "#import timeit\n",
    "import timeit"
   ]
  },
  {
   "cell_type": "code",
   "execution_count": 21,
   "id": "dfeb15f6",
   "metadata": {},
   "outputs": [],
   "source": [
    "def latitudes(size):\n",
    "    latitudes = []\n",
    "    x = 0\n",
    "    while x < (size):\n",
    "        random_lat = rd.randint(-90, 90) + rd.random()\n",
    "        latitudes.append(random_lat)\n",
    "        x += 1\n",
    "    return latitudes"
   ]
  },
  {
   "cell_type": "code",
   "execution_count": 18,
   "id": "4645b4cd",
   "metadata": {},
   "outputs": [],
   "source": [
    "def latitudes2(size):\n",
    "    latitudes = []\n",
    "    for i in range (0,size):\n",
    "        random_lat = rd.randint(-90, 89) + rd.random()\n",
    "        latitudes.append(random_lat)"
   ]
  },
  {
   "cell_type": "code",
   "execution_count": 23,
   "id": "712b73c7",
   "metadata": {},
   "outputs": [
    {
     "name": "stdout",
     "output_type": "stream",
     "text": [
      "12.1 µs ± 9.14 ns per loop (mean ± std. dev. of 7 runs, 100000 loops each)\n"
     ]
    }
   ],
   "source": [
    "%timeit np.random.uniform(-90,90, size = 1500)"
   ]
  },
  {
   "cell_type": "code",
   "execution_count": 22,
   "id": "b92af36b",
   "metadata": {},
   "outputs": [
    {
     "name": "stdout",
     "output_type": "stream",
     "text": [
      "1.3 ms ± 6.75 µs per loop (mean ± std. dev. of 7 runs, 1000 loops each)\n"
     ]
    }
   ],
   "source": [
    "%timeit latitudes(1500)"
   ]
  },
  {
   "cell_type": "code",
   "execution_count": 24,
   "id": "dba066d0",
   "metadata": {},
   "outputs": [
    {
     "name": "stdout",
     "output_type": "stream",
     "text": [
      "1.26 ms ± 4.78 µs per loop (mean ± std. dev. of 7 runs, 1000 loops each)\n"
     ]
    }
   ],
   "source": [
    "%timeit latitudes2(1500)"
   ]
  }
 ],
 "metadata": {
  "kernelspec": {
   "display_name": "Python 3",
   "language": "python",
   "name": "python3"
  },
  "language_info": {
   "codemirror_mode": {
    "name": "ipython",
    "version": 3
   },
   "file_extension": ".py",
   "mimetype": "text/x-python",
   "name": "python",
   "nbconvert_exporter": "python",
   "pygments_lexer": "ipython3",
   "version": "3.8.8"
  }
 },
 "nbformat": 4,
 "nbformat_minor": 5
}
