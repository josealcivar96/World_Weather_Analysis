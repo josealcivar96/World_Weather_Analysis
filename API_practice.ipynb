{
 "cells": [
  {
   "cell_type": "code",
   "execution_count": 1,
   "id": "35b8d2ab",
   "metadata": {},
   "outputs": [],
   "source": [
    "# Create a practice set of random latitude and longitude combinations.\n",
    "x = [25.12903645, 25.92017388, 26.62509167, -59.98969384, 37.30571269]\n",
    "y = [-67.59741259, 11.09532135, 74.84233102, -76.89176677, -61.13376282]\n",
    "coord = zip(x, y)\n",
    "coordinates = list(coord)"
   ]
  },
  {
   "cell_type": "code",
   "execution_count": 2,
   "id": "24c7229d",
   "metadata": {
    "scrolled": true
   },
   "outputs": [
    {
     "name": "stdout",
     "output_type": "stream",
     "text": [
      "25.12903645 -67.59741259\n",
      "25.92017388 11.09532135\n",
      "26.62509167 74.84233102\n",
      "-59.98969384 -76.89176677\n",
      "37.30571269 -61.13376282\n"
     ]
    }
   ],
   "source": [
    "# Use the tuple() function to display the latitude and longitude combinations.\n",
    "for coordinate in coordinates:\n",
    "    print(coordinate[0], coordinate[1])"
   ]
  },
  {
   "cell_type": "code",
   "execution_count": 3,
   "id": "2ecad3dc",
   "metadata": {},
   "outputs": [],
   "source": [
    "from citipy import citipy"
   ]
  },
  {
   "cell_type": "code",
   "execution_count": 4,
   "id": "161992ed",
   "metadata": {},
   "outputs": [
    {
     "name": "stdout",
     "output_type": "stream",
     "text": [
      "cockburn town tc\n",
      "gat ly\n",
      "parvatsar in\n",
      "punta arenas cl\n",
      "saint george bm\n"
     ]
    }
   ],
   "source": [
    "for coord in coordinates:\n",
    "    print(citipy.nearest_city(coord[0], coord[1]).city_name, \n",
    "          citipy.nearest_city(coord[0], coord[1]).country_code)"
   ]
  },
  {
   "cell_type": "code",
   "execution_count": 5,
   "id": "db48ca8b",
   "metadata": {},
   "outputs": [],
   "source": [
    "#import requests library\n",
    "import requests as rq\n",
    "\n",
    "#import API Key\n",
    "from config import weather_api_key as key"
   ]
  },
  {
   "cell_type": "code",
   "execution_count": 6,
   "id": "64617b6e",
   "metadata": {},
   "outputs": [],
   "source": [
    "#start URL for weather map api call\n",
    "url = \"https://api.openweathermap.org/data/2.5/weather?units=metric&appid=\" + key"
   ]
  },
  {
   "cell_type": "code",
   "execution_count": 7,
   "id": "450103bc",
   "metadata": {},
   "outputs": [],
   "source": [
    "#create endpoint URL for a city\n",
    "city_url = url + '&q=' + 'Boston'"
   ]
  },
  {
   "cell_type": "code",
   "execution_count": 8,
   "id": "b1b84a14",
   "metadata": {},
   "outputs": [
    {
     "name": "stdout",
     "output_type": "stream",
     "text": [
      "City Weather found.\n"
     ]
    },
    {
     "data": {
      "text/plain": [
       "<Response [200]>"
      ]
     },
     "execution_count": 8,
     "metadata": {},
     "output_type": "execute_result"
    }
   ],
   "source": [
    "#make 'get' request for city weather\n",
    "city_weather = rq.get(city_url)\n",
    "#check if json exists\n",
    "if city_weather.json():\n",
    "    print(f'City Weather found.')\n",
    "else:\n",
    "    print(f'City Weather not found')\n",
    "city_weather"
   ]
  },
  {
   "cell_type": "code",
   "execution_count": 9,
   "id": "b22a2212",
   "metadata": {
    "scrolled": true
   },
   "outputs": [
    {
     "data": {
      "text/plain": [
       "'{\"coord\":{\"lon\":-71.0598,\"lat\":42.3584},\"weather\":[{\"id\":804,\"main\":\"Clouds\",\"description\":\"overcast clouds\",\"icon\":\"04d\"}],\"base\":\"stations\",\"main\":{\"temp\":20.07,\"feels_like\":20.3,\"temp_min\":16.77,\"temp_max\":23.79,\"pressure\":1026,\"humidity\":83},\"visibility\":10000,\"wind\":{\"speed\":1.79,\"deg\":117,\"gust\":0},\"clouds\":{\"all\":90},\"dt\":1624649412,\"sys\":{\"type\":2,\"id\":2013408,\"country\":\"US\",\"sunrise\":1624612119,\"sunset\":1624667104},\"timezone\":-14400,\"id\":4930956,\"name\":\"Boston\",\"cod\":200}'"
      ]
     },
     "execution_count": 9,
     "metadata": {},
     "output_type": "execute_result"
    }
   ],
   "source": [
    "#get the text of the 'get' request\n",
    "city_weather.text"
   ]
  },
  {
   "cell_type": "code",
   "execution_count": 10,
   "id": "ae97e67b",
   "metadata": {
    "scrolled": true
   },
   "outputs": [],
   "source": [
    "#get the JSON txt of the 'get' request\n",
    "boston_data = city_weather.json()"
   ]
  },
  {
   "cell_type": "code",
   "execution_count": 12,
   "id": "bc9b1423",
   "metadata": {},
   "outputs": [
    {
     "data": {
      "text/plain": [
       "'US'"
      ]
     },
     "execution_count": 12,
     "metadata": {},
     "output_type": "execute_result"
    }
   ],
   "source": [
    "boston_data['sys']['country']"
   ]
  },
  {
   "cell_type": "code",
   "execution_count": 13,
   "id": "cda5fa55",
   "metadata": {},
   "outputs": [
    {
     "name": "stdout",
     "output_type": "stream",
     "text": [
      "42.3584 -71.0598 23.79 83 90 1.79\n"
     ]
    }
   ],
   "source": [
    "lat = boston_data['coord']['lat']\n",
    "lng = boston_data['coord']['lon']\n",
    "max_temp = boston_data[\"main\"][\"temp_max\"]\n",
    "humidity = boston_data[\"main\"][\"humidity\"]\n",
    "clouds = boston_data[\"clouds\"][\"all\"]\n",
    "wind = boston_data[\"wind\"][\"speed\"]\n",
    "print(lat, lng, max_temp, humidity, clouds, wind)"
   ]
  },
  {
   "cell_type": "code",
   "execution_count": 14,
   "id": "a4246f3d",
   "metadata": {},
   "outputs": [
    {
     "data": {
      "text/plain": [
       "1624649412"
      ]
     },
     "execution_count": 14,
     "metadata": {},
     "output_type": "execute_result"
    }
   ],
   "source": [
    "boston_data['dt']"
   ]
  },
  {
   "cell_type": "code",
   "execution_count": 17,
   "id": "49acfc80",
   "metadata": {},
   "outputs": [
    {
     "data": {
      "text/plain": [
       "'2021-06-25 19:30:12'"
      ]
     },
     "execution_count": 17,
     "metadata": {},
     "output_type": "execute_result"
    }
   ],
   "source": [
    "#import datetime module from datetime library\n",
    "from datetime import datetime as dt\n",
    "#get date from JSON file\n",
    "date = boston_data['dt']\n",
    "#convert UTC date to date format with yyyy, mm, dd, hrs, m, s \n",
    "dt.utcfromtimestamp(date).strftime('%Y-%m-%d %H:%M:%S')"
   ]
  },
  {
   "cell_type": "code",
   "execution_count": 7,
   "id": "192a58c5",
   "metadata": {},
   "outputs": [
    {
     "data": {
      "text/plain": [
       "'06/26/21'"
      ]
     },
     "execution_count": 7,
     "metadata": {},
     "output_type": "execute_result"
    }
   ],
   "source": [
    "#import time\n",
    "import time\n",
    "#get date in secs\n",
    "today = time.strftime('%x')\n",
    "today"
   ]
  }
 ],
 "metadata": {
  "kernelspec": {
   "display_name": "Python 3",
   "language": "python",
   "name": "python3"
  },
  "language_info": {
   "codemirror_mode": {
    "name": "ipython",
    "version": 3
   },
   "file_extension": ".py",
   "mimetype": "text/x-python",
   "name": "python",
   "nbconvert_exporter": "python",
   "pygments_lexer": "ipython3",
   "version": "3.7.10"
  }
 },
 "nbformat": 4,
 "nbformat_minor": 5
}
